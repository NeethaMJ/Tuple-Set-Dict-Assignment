{
 "cells": [
  {
   "cell_type": "code",
   "execution_count": null,
   "id": "672b61ac",
   "metadata": {},
   "outputs": [],
   "source": [
    "Tuple, Set & Dict Assignment"
   ]
  },
  {
   "cell_type": "code",
   "execution_count": null,
   "id": "ae35e9cc",
   "metadata": {},
   "outputs": [],
   "source": [
    "Q1. What are the characteristics of the tuples? Is tuple immutable?\n",
    "\n",
    "ANS: Yes, Tuples are immutable in python.\n",
    "\n",
    "Here are the key characteristics of the \n",
    "I)Immutable : Once the Tuple is created, we can not change the contents. You cannot add, remove, or modify elements. This makes tuples sutable for storing data that should not be altered  are immutable\n",
    "II)Ordered : Tuples maintain the order of elements in which they are defined. This means elements can be accessed by using their index, just like lists.\n",
    "III)Heterogenous : Tuples can contain elements of different data types such as integers, strings, floats,  and also other tuples.\n",
    "IV)Iterable: you can iterate over the elements of a tuple using loops, just like lists.\n",
    "V)Hashable : Tuples can be used as keys in dictionaries and elements in sets as long as all their elements are hashable.\n",
    "    "
   ]
  },
  {
   "cell_type": "code",
   "execution_count": null,
   "id": "b97adab1",
   "metadata": {},
   "outputs": [],
   "source": [
    "Q2. What are the two tuple methods in python? Give an example of each method. Give a reason why tuples have only two in-built methods as compared to Lists.\n",
    "\n",
    "ANS: Tuples in Python have two built-in methods: count() and index(). Here are explanations and examples of each:\n",
    "            \n",
    "            Tuples have only two built-in methods (count and index) because they are designed to be simple and immutable data structures, in contrast to lists which are mutable and more versatile. Here are some reasons for the limited methods:\n",
    "\n",
    "Immutability:Tuples are immutable, meaning that once they are created, their contents cannot be changed. This limits the need for methods that modify the tuple, such as append(), extend(), remove(), etc., which are available in lists.\n",
    "\n",
    "Simplicity: Tuples are often used for simple collections of related data, and their primary purpose is to provide a lightweight, immutable sequence type. The limited set of methods reflects this simplicity.\n",
    "\n",
    "Performance: Because tuples are immutable, they can be implemented more efficiently in terms of memory and performance. The limited methods help maintain these efficiencies.\n",
    "\n",
    "Use Case: Tuples are frequently used in situations where the data should not be changed, such as keys in dictionaries or storing a fixed set of related items. Their design is tailored to these use cases, where extensive methods are not necessary.\n",
    "\n",
    "In summary, tuples have only two built-in methods to keep the data structure simple, efficient, and focused on its primary use case of storing immutable collections of items.\n"
   ]
  },
  {
   "cell_type": "code",
   "execution_count": 2,
   "id": "85751889",
   "metadata": {},
   "outputs": [
    {
     "name": "stdout",
     "output_type": "stream",
     "text": [
      "3\n"
     ]
    }
   ],
   "source": [
    "## 1.count() : The count() method returns the number of times a specified value appears in the tuple. \n",
    "\n",
    "my_tuple = (1, 2, 2, 3, 4, 2)\n",
    "count_of_twos = my_tuple.count(2)\n",
    "print(count_of_twos)"
   ]
  },
  {
   "cell_type": "code",
   "execution_count": 3,
   "id": "71fa3ddd",
   "metadata": {},
   "outputs": [
    {
     "name": "stdout",
     "output_type": "stream",
     "text": [
      "1\n"
     ]
    }
   ],
   "source": [
    "##2.index(): The index() method returns the index of the first occurrence of a specified value in the tuple. If the value is not found, it raises a ValueError.\n",
    "\n",
    "my_tuple = (1, 2, 3, 4, 2)\n",
    "index_of_two = my_tuple.index(2)\n",
    "print(index_of_two)"
   ]
  },
  {
   "cell_type": "code",
   "execution_count": null,
   "id": "8baeba2b",
   "metadata": {},
   "outputs": [],
   "source": [
    "Q3. Which collection datatypes in python do not allow duplicate items? Write a code using a set to remove duplicates from the given list.List = [1, 1, 1, 2, 1, 3, 1, 4, 2, 1, 2, 2, 2, 3, 2, 4, 3, 1, 3, 2, 3, 3, 3, 4, 4, 1, 4, 2, 4, 3, 4, 4]\n",
    "\n",
    "In Python, the collection datatypes that do not allow duplicate items are set and frozenset. Both of these data structures are designed to store unique elements only.\n",
    "Here is the code using a set to remove duplicates from the given list:"
   ]
  },
  {
   "cell_type": "code",
   "execution_count": 4,
   "id": "5453f5f1",
   "metadata": {},
   "outputs": [
    {
     "name": "stdout",
     "output_type": "stream",
     "text": [
      "[1, 2, 3, 4]\n"
     ]
    }
   ],
   "source": [
    "# Given list with duplicates\n",
    "List = [1, 1, 1, 2, 1, 3, 1, 4, 2, 1, 2, 2, 2, 3, 2, 4, 3, 1, 3, 2, 3, 3, 3, 4, 4, 1, 4, 2, 4, 3, 4, 4]\n",
    "# Using a set to remove duplicates\n",
    "unique_elements = list(set(List))\n",
    "# Print the result\n",
    "print(unique_elements)"
   ]
  },
  {
   "cell_type": "code",
   "execution_count": null,
   "id": "849dedfb",
   "metadata": {},
   "outputs": [],
   "source": [
    "Q4. Explain the difference between the union() and update() methods for a set. Give an example of each method.\n",
    "\n",
    "The union() and update() methods in Python are used to combine sets, but they serve different purposes and are used in different contexts.\n",
    "union()\n",
    "- Description: The union() method returns a new set that contains all the elements from the original set and all the elements from the specified sets.\n",
    "- Syntax: set.union(*other_sets)\n",
    "Return Value: A new set with elements from the original and specified sets."
   ]
  },
  {
   "cell_type": "code",
   "execution_count": 5,
   "id": "c5d09dc4",
   "metadata": {},
   "outputs": [
    {
     "name": "stdout",
     "output_type": "stream",
     "text": [
      "{1, 2, 3, 4, 5, 6, 7}\n"
     ]
    }
   ],
   "source": [
    "set1 = {1, 2, 3}\n",
    "set2 = {3, 4, 5}\n",
    "set3 = {5, 6, 7}\n",
    "result_set = set1.union(set2, set3)\n",
    "print(result_set) "
   ]
  },
  {
   "cell_type": "code",
   "execution_count": null,
   "id": "4c5595b4",
   "metadata": {},
   "outputs": [],
   "source": [
    "update()\n",
    "\n",
    "- Description: The update() method adds all the elements from the specified sets (or any other iterable) to the original set. It modifies the original set in place.\n",
    "- Syntax: set.update(*other_sets)\n",
    "- Return Value: None (updates the original set in place)."
   ]
  },
  {
   "cell_type": "code",
   "execution_count": 6,
   "id": "5c4b7f00",
   "metadata": {},
   "outputs": [
    {
     "name": "stdout",
     "output_type": "stream",
     "text": [
      "{1, 2, 3, 4, 5, 6, 7}\n"
     ]
    }
   ],
   "source": [
    "set1 = {1, 2, 3}\n",
    "set2 = {3, 4, 5}\n",
    "set3 = {5, 6, 7}\n",
    "set1.update(set2, set3)\n",
    "print(set1)"
   ]
  },
  {
   "cell_type": "code",
   "execution_count": null,
   "id": "f7aa6c17",
   "metadata": {},
   "outputs": [],
   "source": [
    "Key Differences\n",
    "\n",
    "Return Value:\n",
    "1.union(): Returns a new set with the combined elements.\n",
    "2.update(): Modifies the original set and returns None.\n",
    "\n",
    "    Usage:\n",
    "1.union(): Use when you need a new set with the combined elements without modifying the original sets.\n",
    "2.update(): Use when you want to add elements from other sets (or iterables) to the original set, modifying it in place.\n",
    "\n",
    "    Summary\n",
    "union() is used to create a new set with elements from multiple sets without changing the original sets.\n",
    "update() is used to add elements from multiple sets (or iterables) to an existing set, modifying the original set in place."
   ]
  },
  {
   "cell_type": "code",
   "execution_count": null,
   "id": "82512bcd",
   "metadata": {},
   "outputs": [],
   "source": [
    "Q5. What is a dictionary? Give an example. Also, state whether a dictionary is ordered or unordered.\n",
    "\n",
    "A dictionary in Python is a collection data type that stores data in key-value pairs. Each key must be unique, immutable, and hashable, while the values can be of any data type and can be duplicated.\n",
    "Definition: A dictionary is a collection of key-value pairs.\n",
    "    \n",
    "    Order: As of Python 3.7, dictionaries are ordered collections, meaning they maintain the order of keys as they are inserted."
   ]
  },
  {
   "cell_type": "code",
   "execution_count": 7,
   "id": "5ed0be95",
   "metadata": {},
   "outputs": [
    {
     "name": "stdout",
     "output_type": "stream",
     "text": [
      "Alice\n",
      "30\n"
     ]
    }
   ],
   "source": [
    "# Creating a dictionary\n",
    "\n",
    "person = {    \"name\": \"Alice\",    \"age\": 30,    \"city\": \"New York\",    \"is_student\": False}\n",
    "# Accessing values\n",
    "print(person[\"name\"])  \n",
    "print(person[\"age\"]) "
   ]
  },
  {
   "cell_type": "code",
   "execution_count": null,
   "id": "70d6bc34",
   "metadata": {},
   "outputs": [],
   "source": [
    "Q6. Can we create a nested dictionary? If so, please give an example by creating a simple one-level nested dictionary.\n",
    "\n",
    "Yes, we can create a nested dictionary in Python. A nested dictionary is a dictionary where the value of one or more keys is another dictionary."
   ]
  },
  {
   "cell_type": "code",
   "execution_count": 8,
   "id": "2b03f469",
   "metadata": {},
   "outputs": [
    {
     "name": "stdout",
     "output_type": "stream",
     "text": [
      "John Doe\n",
      "Anytown\n",
      "Science\n"
     ]
    }
   ],
   "source": [
    "# Creating a nested dictionary\n",
    "student = {    \"name\": \"John Doe\", \"age\": 20, \"address\": {\"street\": \"123 Main St\", \t\t\"city\":\"Anytown\",        \"state\": \"CA\",   \"zip\": \"12345\"  },     \"courses\": [\"Math\", \"Science\", \"English\"]\n",
    "}\n",
    "# Accessing values in the nested dictionary\n",
    "print(student[\"name\"])         \n",
    "print(student[\"address\"][\"city\"])  \n",
    "print(student[\"courses\"][1])   "
   ]
  },
  {
   "cell_type": "code",
   "execution_count": null,
   "id": "8f6f397f",
   "metadata": {},
   "outputs": [],
   "source": [
    "Q7. Using setdefault() method, create key named topics in the given dictionary and also add the value of the key as this list ['Python', 'Machine Learning’, 'Deep Learning']\n",
    "dict1 = {'language' : 'Python', 'course': 'Data Science Masters'}"
   ]
  },
  {
   "cell_type": "code",
   "execution_count": 9,
   "id": "587fdd34",
   "metadata": {},
   "outputs": [
    {
     "name": "stdout",
     "output_type": "stream",
     "text": [
      "{'language': 'Python', 'course': 'Data Science Masters', 'topics': ['Python', 'Machine Learning', 'Deep Learning']}\n"
     ]
    }
   ],
   "source": [
    "dict1 = {'language' : 'Python', 'course': 'Data Science Masters'}\n",
    "dict1.setdefault('topics', ['Python', 'Machine Learning', 'Deep Learning'])\n",
    "\n",
    "print(dict1)"
   ]
  },
  {
   "cell_type": "code",
   "execution_count": 13,
   "id": "2edb4c1e",
   "metadata": {},
   "outputs": [],
   "source": [
    "Q7. Using setdefault() method, create key named topics in the given dictionary and also add the value of the key as this list ['Python', 'Machine Learning’, 'Deep Learning']\n",
    " dict1 = {'language' : 'Python', 'course': 'Data Science Masters'}\n",
    "\n",
    "In Python, the three view objects in dictionaries are:\n",
    "\n",
    "Keys View: Displays all the keys in the dictionary.\n",
    "Values View: Displays all the values in the dictionary.\n",
    "Items View: Displays all the key-value pairs as tuples.\n",
    "You can use the in-built methods keys(), values(), and items() to display these view objects.                                                                                                                \n",
    "                                                                                                                        "
   ]
  },
  {
   "cell_type": "code",
   "execution_count": 11,
   "id": "af249a0b",
   "metadata": {},
   "outputs": [
    {
     "name": "stdout",
     "output_type": "stream",
     "text": [
      "Keys View: dict_keys(['Sport', 'Teams'])\n",
      "Values View: dict_values(['Cricket', ['India', 'Australia', 'England', 'South Africa', 'Sri Lanka', 'New Zealand']])\n",
      "Items View: dict_items([('Sport', 'Cricket'), ('Teams', ['India', 'Australia', 'England', 'South Africa', 'Sri Lanka', 'New Zealand'])])\n"
     ]
    }
   ],
   "source": [
    "dict1 = {'Sport': 'Cricket', 'Teams': ['India', 'Australia', 'England', 'South Africa', 'Sri Lanka', 'New Zealand']}\n",
    "\n",
    "# Displaying the Keys View\n",
    "keys_view = dict1.keys()\n",
    "print(\"Keys View:\", keys_view)\n",
    "\n",
    "# Displaying the Values View\n",
    "values_view = dict1.values()\n",
    "print(\"Values View:\", values_view)\n",
    "\n",
    "# Displaying the Items View\n",
    "items_view = dict1.items()\n",
    "print(\"Items View:\", items_view)"
   ]
  },
  {
   "cell_type": "code",
   "execution_count": null,
   "id": "59316b42",
   "metadata": {},
   "outputs": [],
   "source": []
  }
 ],
 "metadata": {
  "kernelspec": {
   "display_name": "Python 3 (ipykernel)",
   "language": "python",
   "name": "python3"
  },
  "language_info": {
   "codemirror_mode": {
    "name": "ipython",
    "version": 3
   },
   "file_extension": ".py",
   "mimetype": "text/x-python",
   "name": "python",
   "nbconvert_exporter": "python",
   "pygments_lexer": "ipython3",
   "version": "3.11.4"
  }
 },
 "nbformat": 4,
 "nbformat_minor": 5
}
